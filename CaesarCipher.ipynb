{
 "cells": [
  {
   "cell_type": "code",
   "execution_count": 1,
   "metadata": {
    "collapsed": false,
    "scrolled": true
   },
   "outputs": [
    {
     "name": "stdout",
     "output_type": "stream",
     "text": [
      "Populating the interactive namespace from numpy and matplotlib\n"
     ]
    }
   ],
   "source": [
    "%pylab inline"
   ]
  },
  {
   "cell_type": "code",
   "execution_count": 2,
   "metadata": {
    "collapsed": false
   },
   "outputs": [],
   "source": [
    "rcParams['figure.figsize'] = 12, 9\n",
    "import string"
   ]
  },
  {
   "cell_type": "code",
   "execution_count": 3,
   "metadata": {
    "collapsed": false
   },
   "outputs": [],
   "source": [
    "lowerletters=\"abcdefghijklmnopqrstuvwxyz\"\n",
    "upperletters = lowerletters.upper()\n",
    "englishfreq=[8.167,1.492, 2.782,4.253,12.702,2.228,2.015,6.094,6.966,0.153,0.772,4.025,2.406,6.749,7.507,1.929,0.095,5.987,6.327,9.056 \n",
    "   ,2.758 ,0.978 ,2.361 ,0.150 ,1.974,0.074]"
   ]
  },
  {
   "cell_type": "code",
   "execution_count": 4,
   "metadata": {
    "collapsed": false
   },
   "outputs": [
    {
     "data": {
      "text/plain": [
       "{'a': 'c',\n",
       " 'b': 'd',\n",
       " 'c': 'e',\n",
       " 'd': 'f',\n",
       " 'e': 'g',\n",
       " 'f': 'h',\n",
       " 'g': 'i',\n",
       " 'h': 'j',\n",
       " 'i': 'k',\n",
       " 'j': 'l',\n",
       " 'k': 'm',\n",
       " 'l': 'n',\n",
       " 'm': 'o',\n",
       " 'n': 'p',\n",
       " 'o': 'q',\n",
       " 'p': 'r',\n",
       " 'q': 's',\n",
       " 'r': 't',\n",
       " 's': 'u',\n",
       " 't': 'v',\n",
       " 'u': 'w',\n",
       " 'v': 'x',\n",
       " 'w': 'y',\n",
       " 'x': 'z',\n",
       " 'y': 'a',\n",
       " 'z': 'b'}"
      ]
     },
     "execution_count": 4,
     "metadata": {},
     "output_type": "execute_result"
    }
   ],
   "source": [
    "def getEncoder(key):\n",
    "    \"\"\"Returns a dictionary which maps each lowercase alphabet to the alphabet got by shifting it using the key.\n",
    "    key : A singleton string describing the shift amount\"\"\"\n",
    "    res = {}\n",
    "    k = ord(key)-ord('a')\n",
    "    for i in lowerletters:\n",
    "        res[i] = chr((ord(i)-ord('a')+k)%26 + ord('a'))\n",
    "    \n",
    "    return res\n",
    "    \n",
    "getEncoder('c')"
   ]
  },
  {
   "cell_type": "code",
   "execution_count": 5,
   "metadata": {
    "collapsed": true
   },
   "outputs": [],
   "source": [
    "def encrypt(ptext, key):\n",
    "    \"\"\" Encrypts the plaintext using a caesar cipher with key\n",
    "    ptext: Assumed to be a string\n",
    "    key: Assumed to be a singleton string, i.e., one character string\"\"\"\n",
    "    encode = getEncoder(key)\n",
    "    ctext = ''\n",
    "#     ptext = ptext.lower()\n",
    "    for i in ptext:\n",
    "        if i in lowerletters:\n",
    "            ctext += encode[i]\n",
    "        elif i in upperletters:\n",
    "            ctext += encode[i.lower()].upper()\n",
    "        else:\n",
    "            ctext += i\n",
    "    \n",
    "    return ctext"
   ]
  },
  {
   "cell_type": "code",
   "execution_count": 6,
   "metadata": {
    "collapsed": true
   },
   "outputs": [],
   "source": [
    "def decrypt(ctext, key):\n",
    "    \"\"\" Decrypts the ciphertext using a caesar cipher with key\n",
    "    ctext: Assumed to be a string\n",
    "    key: Assumed to be a singleton string, i.e., one character string\"\"\"\n",
    "    return encrypt(ctext, chr(25-(ord(key)-ord('a'))+ord('a')+1))"
   ]
  },
  {
   "cell_type": "code",
   "execution_count": 7,
   "metadata": {
    "collapsed": true
   },
   "outputs": [],
   "source": [
    "def normalizeToPercent(l):\n",
    "    \"\"\"Normalizes the list of floats l to a percentage\n",
    "    l: Assumed to be a list of floats\"\"\"\n",
    "    total = sum(l)\n",
    "    if total == 0:\n",
    "        return\n",
    "    for i in range(len(l)):\n",
    "        l[i] = l[i]*100.0/total"
   ]
  },
  {
   "cell_type": "code",
   "execution_count": 8,
   "metadata": {
    "collapsed": true
   },
   "outputs": [],
   "source": [
    "def getFreq(text):\n",
    "    \"\"\"Returns a dictionary which represents the frequency of English characters in the string text.\n",
    "    The keys are lowercase letters, but the case is ignored when frequency is measured.\"\"\"\n",
    "    freq={}\n",
    "    text = text.lower()\n",
    "    for i in lowerletters:\n",
    "        freq[i] = 0\n",
    "    for i in text:\n",
    "        if i in lowerletters:\n",
    "            freq[i] +=1\n",
    "    \n",
    "    return freq"
   ]
  },
  {
   "cell_type": "code",
   "execution_count": 9,
   "metadata": {
    "collapsed": true
   },
   "outputs": [],
   "source": [
    "def plotFreq(text):\n",
    "    \"\"\"Plots the frequency distribution of the string 'text' along with the standard English frequency distribution\"\"\"\n",
    "    \n",
    "    aDict = getFreq(text)\n",
    "    l=[]\n",
    "    for i in lowerletters:\n",
    "        l.append(aDict[i])\n",
    "    \n",
    "    normalizeToPercent(l)\n",
    "    \n",
    "    wid = 1\n",
    "    \n",
    "    fig,ax = plt.subplots()\n",
    "    rect1 = ax.bar(range(0,26*wid*3,wid*3), englishfreq, wid, color='purple')\n",
    "    rect2 = ax.bar(range(wid,26*wid*3 + wid,wid*3), l,wid, color='g')\n",
    "    \n",
    "    ax.set_ylabel('Frequency Percent')\n",
    "    ax.set_xlabel('Letter')\n",
    "    ax.set_title('Frequency distribution of input string')\n",
    "    ax.set_xticks(range(wid,26*wid*3 + wid,wid*3))\n",
    "    ax.set_xticklabels(list(lowerletters))\n",
    "    \n",
    "    ax.legend( (rect1[0], rect2[0]), ('Standard English Frequency', 'Input Text Frequency') )\n",
    "    \n",
    "    plt.show() "
   ]
  },
  {
   "cell_type": "code",
   "execution_count": 10,
   "metadata": {
    "collapsed": false
   },
   "outputs": [
    {
     "name": "stdout",
     "output_type": "stream",
     "text": [
      "kdssb\n",
      "{'a': 0, 'c': 0, 'b': 1, 'e': 2, 'd': 0, 'g': 2, 'f': 0, 'i': 2, 'h': 0, 'k': 0, 'j': 0, 'm': 0, 'l': 0, 'o': 2, 'n': 1, 'q': 0, 'p': 0, 's': 1, 'r': 1, 'u': 0, 't': 1, 'w': 3, 'v': 0, 'y': 0, 'x': 0, 'z': 0}\n"
     ]
    },
    {
     "data": {
      "image/png": "[encoded data removed]",
      "text/plain": [
       "<matplotlib.figure.Figure at 0x61ffbf0>"
      ]
     },
     "metadata": {},
     "output_type": "display_data"
    },
    {
     "data": {
      "image/png": "[encoded data removed]",
      "text/plain": [
       "<matplotlib.figure.Figure at 0x6388770>"
      ]
     },
     "metadata": {},
     "output_type": "display_data"
    },
    {
     "name": "stdout",
     "output_type": "stream",
     "text": [
      "{'a': 11, 'c': 0, 'b': 5, 'e': 4, 'd': 7, 'g': 0, 'f': 7, 'i': 1, 'h': 3, 'k': 3, 'j': 9, 'm': 1, 'l': 5, 'o': 0, 'n': 1, 'q': 2, 'p': 0, 's': 7, 'r': 1, 'u': 1, 't': 0, 'w': 3, 'v': 4, 'y': 0, 'x': 0, 'z': 0}\n"
     ]
    },
    {
     "data": {
      "text/plain": [
       "<Container object of 26 artists>"
      ]
     },
     "execution_count": 10,
     "metadata": {},
     "output_type": "execute_result"
    },
    {
     "data": {
      "image/png": "[encoded data removed]",
      "text/plain": [
       "<matplotlib.figure.Figure at 0x663afd0>"
      ]
     },
     "metadata": {},
     "output_type": "display_data"
    }
   ],
   "source": [
    "print encrypt(\"happy\",\"d\")\n",
    "print getFreq(\"big string wooewew\")\n",
    "plot([sin(x) for x in linspace(0,5)])\n",
    "plotFreq(\"ajabsdakjsdasvbdkfjvaeiwqeubfalsjhnfajsdfvwaljekfbsaldj,fbawljerhvlqhjfdamds\")\n",
    "dic = getFreq(\"ajabsdakjsdasvbdkfjvaeiwqeubfalsjhnfajsdfvwaljekfbsaldj,fbawljerhvlqhjfdamds\")\n",
    "print dic\n",
    "bar(range(26),dic.values())"
   ]
  },
  {
   "cell_type": "code",
   "execution_count": 11,
   "metadata": {
    "collapsed": false
   },
   "outputs": [
    {
     "name": "stdout",
     "output_type": "stream",
     "text": [
      "qtxmcmfkjejxhxlfxlqisuxzxhovqxzyhqtxfwpfzzbgzuirsaxtdmjtmlzicjzdducugkzopdhlaqtxpfnoocnkmxhwoccxvsubpxfwpfzzbgffbcowfjvwriqhpoypxtknmttlscjoxsreqksbxutzbyldwchqfodzjbdbcqxoeokpqxrmvjosdxiqtxlfrmxdkpqohnsfbezfgkfnkzuznmymbzuihqfrvwqrexxuroqzbeemkvsbcmwlcdq\n"
     ]
    },
    {
     "data": {
      "image/png": "[encoded data removed]",
      "text/plain": [
       "<matplotlib.figure.Figure at 0x61ffc30>"
      ]
     },
     "metadata": {},
     "output_type": "display_data"
    }
   ],
   "source": [
    "filecreatorIfNeeded = open(\"ciphertext.txt\", 'a+')\n",
    "filecreatorIfNeeded.close()\n",
    "ctext = open(\"ciphertext.txt\")\n",
    "s = ctext.read()\n",
    "ctext.close()\n",
    "s = decrypt(s,'f')\n",
    "print s\n",
    "dic = getFreq(s)\n",
    "plotFreq(s)"
   ]
  },
  {
   "cell_type": "code",
   "execution_count": 12,
   "metadata": {
    "collapsed": false
   },
   "outputs": [
    {
     "data": {
      "text/plain": [
       "{'a': 2,\n",
       " 'b': 12,\n",
       " 'c': 12,\n",
       " 'd': 10,\n",
       " 'e': 7,\n",
       " 'f': 16,\n",
       " 'g': 4,\n",
       " 'h': 9,\n",
       " 'i': 6,\n",
       " 'j': 8,\n",
       " 'k': 10,\n",
       " 'l': 8,\n",
       " 'm': 12,\n",
       " 'n': 6,\n",
       " 'o': 14,\n",
       " 'p': 9,\n",
       " 'q': 16,\n",
       " 'r': 8,\n",
       " 's': 9,\n",
       " 't': 10,\n",
       " 'u': 9,\n",
       " 'v': 6,\n",
       " 'w': 8,\n",
       " 'x': 23,\n",
       " 'y': 4,\n",
       " 'z': 17}"
      ]
     },
     "execution_count": 12,
     "metadata": {},
     "output_type": "execute_result"
    }
   ],
   "source": [
    "def decryptFreq(aDict, key):\n",
    "    \"\"\"Returns the frequency distribution obtained by decrypting the frequency distribution aDict using key.\n",
    "    aDict : A dictionary whose keys are lowercase alphabet and values are ints\n",
    "    key: A singleton string\"\"\"\n",
    "    result = {}\n",
    "    encode = getEncoder(key)\n",
    "    for i in lowerletters:\n",
    "        result[i] = aDict[encode[i]]\n",
    "    \n",
    "    return result\n",
    "    \n",
    "decryptFreq(dic, 'a')"
   ]
  },
  {
   "cell_type": "code",
   "execution_count": 13,
   "metadata": {
    "collapsed": false
   },
   "outputs": [
    {
     "data": {
      "text/plain": [
       "12.386958171649958"
      ]
     },
     "execution_count": 13,
     "metadata": {},
     "output_type": "execute_result"
    }
   ],
   "source": [
    "def getDeviation(aDict):\n",
    "    \"\"\"Get the mean square deviation of the input frequency distribution from the standard English frequency distribution.\n",
    "    aDict : A dictionary whose keys are lowercase alphabet and values are ints\"\"\"\n",
    "    freqlist = []\n",
    "    for i in lowerletters:\n",
    "        freqlist.append(aDict[i])\n",
    "    \n",
    "    normalizeToPercent(freqlist)\n",
    "    return sum([(freqlist[x]-englishfreq[x])**2 for x in range(26)])/26.0\n",
    "\n",
    "getDeviation(getFreq(encrypt(s,'f')))"
   ]
  },
  {
   "cell_type": "code",
   "execution_count": 14,
   "metadata": {
    "collapsed": false
   },
   "outputs": [
    {
     "data": {
      "text/plain": [
       "{'a': 12.386958171649958,\n",
       " 'b': 16.879446859432765,\n",
       " 'c': 8.1516942199154165,\n",
       " 'd': 14.465661037411648,\n",
       " 'e': 11.92738049442522,\n",
       " 'f': 18.036701761393548,\n",
       " 'g': 10.786716844349804,\n",
       " 'h': 15.975736452192942,\n",
       " 'i': 13.50876812640109,\n",
       " 'j': 14.203489091710289,\n",
       " 'k': 12.425751535149205,\n",
       " 'l': 13.136098443143169,\n",
       " 'm': 16.603609755360363,\n",
       " 'n': 13.196792259131103,\n",
       " 'o': 12.481437809659006,\n",
       " 'p': 11.122252289297016,\n",
       " 'q': 13.301648971046635,\n",
       " 'r': 9.4866263466122493,\n",
       " 's': 17.411211565315117,\n",
       " 't': 12.949823933339246,\n",
       " 'u': 14.509341278738948,\n",
       " 'v': 12.596188940880726,\n",
       " 'w': 15.004303571348299,\n",
       " 'x': 15.043157266672583,\n",
       " 'y': 11.459145200307573,\n",
       " 'z': 14.819416693520242}"
      ]
     },
     "execution_count": 14,
     "metadata": {},
     "output_type": "execute_result"
    }
   ],
   "source": [
    "def getAllDeviations(aDict):\n",
    "    \"\"\"Returns a dictionary whose keys are keys used to decrypt the frequency distribution defined by aDict, and values are the mean\n",
    "    deviations of the resultant frequency distribution from the standard English frequency distribution.\n",
    "    aDict : A dictionary whose keys are lowercase alphabet and values are ints\"\"\"\n",
    "    result = {}\n",
    "    for i in lowerletters:\n",
    "        temp = decryptFreq(aDict,i)\n",
    "        result[i] = getDeviation(temp)\n",
    "    \n",
    "    return result\n",
    "\n",
    "getAllDeviations(getFreq(encrypt(s,'f')))"
   ]
  },
  {
   "cell_type": "code",
   "execution_count": 15,
   "metadata": {
    "collapsed": true
   },
   "outputs": [],
   "source": [
    "def crackCaesarCipher(ciphertext):\n",
    "    \"\"\"Cracks the Caeser cipher used to encrypt the ciphertext and returns the key.\n",
    "    Returns: A singleton string with the key.\"\"\"\n",
    "    freq = getFreq(ciphertext)\n",
    "    devs = getAllDeviations(freq)\n",
    "    key='a'\n",
    "    mindev = devs['a']\n",
    "    for i in lowerletters:\n",
    "        if devs[i]<mindev:\n",
    "            mindev = devs[i]\n",
    "            key = i\n",
    "            \n",
    "    return key"
   ]
  },
  {
   "cell_type": "code",
   "execution_count": 16,
   "metadata": {
    "collapsed": false,
    "scrolled": false
   },
   "outputs": [
    {
     "data": {
      "image/png": "[encoded data removed]",
      "text/plain": [
       "<matplotlib.figure.Figure at 0x8a2da70>"
      ]
     },
     "metadata": {},
     "output_type": "display_data"
    },
    {
     "name": "stdout",
     "output_type": "stream",
     "text": [
      "Results of encrypting text using a key and attempting to crack the cipher and get back the key:\n",
      "\n",
      "Text used:\n",
      "qtxmcmfkjejxhxlfxlqisuxzxhovqxzyhqtxfwpfzzbgzuirsaxtdmjtmlzicjzdducugkzopdhlaqtxpfnoocnkmxhwoccxvsubpxfwpfzzbgffbcowfjvwriqhpoypxtknmttlscjoxsreqksbxutzbyldwchqfodzjbdbcqxoeokpqxrmvjosdxiqtxlfrmxdkpqohnsfbezfgkfnkzuznmymbzuihqfrvwqrexxuroqzbeemkvsbcmwlcdq\n",
      "\n",
      "Key used: a\tKey deciphered: x\n",
      "Key used: b\tKey deciphered: y\n",
      "Key used: c\tKey deciphered: z\n",
      "Key used: d\tKey deciphered: a\n",
      "Key used: e\tKey deciphered: b\n",
      "Key used: f\tKey deciphered: c\n",
      "Key used: g\tKey deciphered: d\n",
      "Key used: h\tKey deciphered: e\n",
      "Key used: i\tKey deciphered: f\n",
      "Key used: j\tKey deciphered: g\n",
      "Key used: k\tKey deciphered: h\n",
      "Key used: l\tKey deciphered: i\n",
      "Key used: m\tKey deciphered: j\n",
      "Key used: n\tKey deciphered: k\n",
      "Key used: o\tKey deciphered: l\n",
      "Key used: p\tKey deciphered: m\n",
      "Key used: q\tKey deciphered: n\n",
      "Key used: r\tKey deciphered: o\n",
      "Key used: s\tKey deciphered: p\n",
      "Key used: t\tKey deciphered: q\n",
      "Key used: u\tKey deciphered: r\n",
      "Key used: v\tKey deciphered: s\n",
      "Key used: w\tKey deciphered: t\n",
      "Key used: x\tKey deciphered: u\n",
      "Key used: y\tKey deciphered: v\n",
      "Key used: z\tKey deciphered: w\n"
     ]
    },
    {
     "data": {
      "text/plain": [
       "{'a': 15.043157266672583,\n",
       " 'b': 11.459145200307573,\n",
       " 'c': 14.819416693520242,\n",
       " 'd': 12.386958171649958,\n",
       " 'e': 16.879446859432765,\n",
       " 'f': 8.1516942199154165,\n",
       " 'g': 14.465661037411648,\n",
       " 'h': 11.92738049442522,\n",
       " 'i': 18.036701761393548,\n",
       " 'j': 10.786716844349804,\n",
       " 'k': 15.975736452192942,\n",
       " 'l': 13.50876812640109,\n",
       " 'm': 14.203489091710289,\n",
       " 'n': 12.425751535149205,\n",
       " 'o': 13.136098443143169,\n",
       " 'p': 16.603609755360363,\n",
       " 'q': 13.196792259131103,\n",
       " 'r': 12.481437809659006,\n",
       " 's': 11.122252289297016,\n",
       " 't': 13.301648971046635,\n",
       " 'u': 9.4866263466122493,\n",
       " 'v': 17.411211565315117,\n",
       " 'w': 12.949823933339246,\n",
       " 'x': 14.509341278738948,\n",
       " 'y': 12.596188940880726,\n",
       " 'z': 15.004303571348299}"
      ]
     },
     "execution_count": 16,
     "metadata": {},
     "output_type": "execute_result"
    }
   ],
   "source": [
    "ctext = open(\"ciphertext.txt\")\n",
    "s = decrypt(ctext.read(),'f')\n",
    "ctext.close()\n",
    "plotFreq(s)\n",
    "print \"Results of encrypting text using a key and attempting to crack the cipher and get back the key:\\n\"\n",
    "print \"Text used:\\n\" + s+\"\\n\"\n",
    "for i in lowerletters:\n",
    "    t = encrypt(s,i)\n",
    "    print('Key used: '+i+'\\tKey deciphered: '+crackCaesarCipher(t))\n",
    "\n",
    "# t = encrypt(s,'j')\n",
    "# print decrypt(t,'j')\n",
    "getAllDeviations(getFreq(encrypt(s,'i')))"
   ]
  },
  {
   "cell_type": "code",
   "execution_count": 17,
   "metadata": {
    "collapsed": true
   },
   "outputs": [],
   "source": [
    "def decipherText(ciphertext):\n",
    "    \"\"\"Deciphers the ciphertext assuming it has been encrypted using a Caeser cipher.\n",
    "    Deciphering is done using frequency analysis.\n",
    "    ciphertext : The ciphertext\"\"\"\n",
    "    key = crackCaesarCipher(ciphertext)\n",
    "    return decrypt(ciphertext,key)\n",
    "    "
   ]
  },
  {
   "cell_type": "code",
   "execution_count": 18,
   "metadata": {
    "collapsed": false
   },
   "outputs": [
    {
     "name": "stdout",
     "output_type": "stream",
     "text": [
      "Cipher text:\n",
      "vycrhrkpojocmcqkcqvnxzcecmtavcedmvyckbukeegleznwxfcyiroyrqenhoeiizhzlpetuimqfvycukstthsprcmbthhcaxzguckbukeeglkkghtbkoabwnvmutducypsryyqxhotcxwjvpxgczyegdqibhmvktieogighvctjtpuvcwraotxicnvycqkwrcipuvtmsxkgjeklpkspezesrdrgeznmvkwabvwjcczwtvegjjrpaxghrbqhiv\n"
     ]
    },
    {
     "data": {
      "image/png": "[encoded data removed]",
      "text/plain": [
       "<matplotlib.figure.Figure at 0x620f1f0>"
      ]
     },
     "metadata": {},
     "output_type": "display_data"
    },
    {
     "name": "stdout",
     "output_type": "stream",
     "text": [
      "\n",
      "Deciphered text:\n",
      "twapfpinmhmakaoiaotlvxacakrytacbktwaizsiccejcxluvdawgpmwpoclfmcggxfxjncrsgkodtwasiqrrfqnpakzrffayvxesaizsiccejiiefrzimyzultksrbsawnqpwwovfmravuhtnveaxwcebogzfktirgcmegeftarhrnstaupymrvgaltwaoiupagnstrkqviehcijniqncxcqpbpecxlktiuyztuhaaxurtcehhpnyvefpzofgt\n",
      "\n",
      "Key used: c\n"
     ]
    }
   ],
   "source": [
    "ctext = open(\"ciphertext.txt\")\n",
    "s = ctext.read()\n",
    "ctext.close()\n",
    "\n",
    "print \"Cipher text:\\n\"+s\n",
    "plotFreq(s)\n",
    "print \"\\nDeciphered text:\\n\"+decipherText(s)\n",
    "print \"\\nKey used: \"+crackCaesarCipher(s)"
   ]
  },
  {
   "cell_type": "code",
   "execution_count": 19,
   "metadata": {
    "collapsed": false
   },
   "outputs": [
    {
     "name": "stdout",
     "output_type": "stream",
     "text": [
      "55909\n"
     ]
    }
   ],
   "source": [
    "wordsFile = open(\"words.txt\")\n",
    "wordList = wordsFile.read().split(' ')\n",
    "wordsFile.close()\n",
    "print len(wordList)"
   ]
  },
  {
   "cell_type": "code",
   "execution_count": 20,
   "metadata": {
    "collapsed": false
   },
   "outputs": [],
   "source": [
    "# %timeit crackCaesarCipher(s)"
   ]
  },
  {
   "cell_type": "code",
   "execution_count": 21,
   "metadata": {
    "collapsed": false
   },
   "outputs": [
    {
     "data": {
      "text/plain": [
       "'LXFOPV EFRNHR'"
      ]
     },
     "execution_count": 21,
     "metadata": {},
     "output_type": "execute_result"
    }
   ],
   "source": [
    "def polyEncrypt(ptext,key):\n",
    "    \"\"\"Encrypts the plaintext using a Vigenere cipher with the key.\n",
    "    ptext, key: Strings\"\"\"\n",
    "    l = len(key)\n",
    "    result = ''\n",
    "    c=0\n",
    "    for i in ptext:\n",
    "        if i in string.letters:\n",
    "            result+=encrypt(i,key[c%l])\n",
    "            c+=1\n",
    "        else:\n",
    "            result+=i\n",
    "    \n",
    "    return result\n",
    "\n",
    "polyEncrypt('ATTACK ATDAWN',\"lemon\")"
   ]
  },
  {
   "cell_type": "code",
   "execution_count": 22,
   "metadata": {
    "collapsed": false
   },
   "outputs": [
    {
     "data": {
      "text/plain": [
       "'ATTACK AT DAWN'"
      ]
     },
     "execution_count": 22,
     "metadata": {},
     "output_type": "execute_result"
    }
   ],
   "source": [
    "def polyDecrypt(ctext, key):\n",
    "    \"\"\"Decrypts the ciphertext using a Vigenere cipher with the key.\n",
    "    ptext, key: Strings\"\"\"\n",
    "    dkey = ''\n",
    "    for i in key:\n",
    "        dkey += chr(25-(ord(i)-ord('a'))+ord('a')+1)\n",
    "    \n",
    "    return polyEncrypt(ctext,dkey)\n",
    "\n",
    "polyDecrypt('LXFOPV EF RNHR', 'lemon')"
   ]
  },
  {
   "cell_type": "code",
   "execution_count": 23,
   "metadata": {
    "collapsed": false,
    "scrolled": false
   },
   "outputs": [
    {
     "data": {
      "text/plain": [
       "['AKW', 'TAN', 'TT', 'AD', 'CA']"
      ]
     },
     "execution_count": 23,
     "metadata": {},
     "output_type": "execute_result"
    }
   ],
   "source": [
    "def splitForKeyLength(intext, keylength):\n",
    "    \"\"\"Splits the input text into keylength number of strings. Each string contains the characters which would be\n",
    "    encrypted by each character of a key whose length is keylength\n",
    "    intext: String\n",
    "    keylength: int\"\"\"\n",
    "    strs = []\n",
    "    for i in range(keylength):\n",
    "        strs.append('')\n",
    "    \n",
    "    c=0\n",
    "    for i in intext:\n",
    "        if i in string.letters:\n",
    "            strs[c%keylength]+=i\n",
    "            c+=1\n",
    "    \n",
    "    return strs\n",
    "\n",
    "splitForKeyLength('ATTACKATDAWN',5)"
   ]
  },
  {
   "cell_type": "code",
   "execution_count": 24,
   "metadata": {
    "collapsed": false
   },
   "outputs": [],
   "source": [
    "def crackVigenereCipher(ciphertext, keylength):\n",
    "    \"\"\"Cracks the Vigenere cipher in the ciphertext, assuming the key has a length of keylength\n",
    "    ciphertext: String\n",
    "    keylength: int\"\"\"\n",
    "    strs = splitForKeyLength(ciphertext, keylength)\n",
    "    key = ''\n",
    "    for i in strs:\n",
    "        key += crackCaesarCipher(i)\n",
    "    \n",
    "    \n",
    "    ptex = polyDecrypt(ciphertext, key)\n",
    "    return (key, getDeviation(getFreq(ptex)))\n"
   ]
  },
  {
   "cell_type": "code",
   "execution_count": 25,
   "metadata": {
    "collapsed": false
   },
   "outputs": [
    {
     "data": {
      "text/plain": [
       "('cqcprot', 4.7408386318279945)"
      ]
     },
     "execution_count": 25,
     "metadata": {},
     "output_type": "execute_result"
    }
   ],
   "source": [
    "ctext = open(\"ciphertext.txt\")\n",
    "s = ctext.read()\n",
    "ctext.close()\n",
    "\n",
    "# polyEncrypt(s,'lemon')\n",
    "# polyDecrypt(s,'lemon')\n",
    "crackVigenereCipher(s,7)"
   ]
  },
  {
   "cell_type": "code",
   "execution_count": 26,
   "metadata": {
    "collapsed": true
   },
   "outputs": [],
   "source": [
    "def decipherTextVigenere(ciphertext):\n",
    "    \"\"\"Cracks the Vigenere cipher in the ciphertext, and returns the decrypted text.\n",
    "    Assumes the key has length between 1 and 20.\n",
    "    ciphertext: String\"\"\"\n",
    "    results = []\n",
    "    for i in range(1,21,1):\n",
    "        results.append(crackVigenereCipher(ciphertext,i))\n",
    "    \n",
    "    mindev = results[0][1]\n",
    "    minkey = results[0][0]\n",
    "    for i in results:\n",
    "        if i[1]<mindev:\n",
    "            mindev = i[1]\n",
    "            minkey = i[0]\n",
    "    \n",
    "    print \"Key: \" + minkey\n",
    "    return polyDecrypt(ciphertext, minkey)"
   ]
  },
  {
   "cell_type": "code",
   "execution_count": 27,
   "metadata": {
    "collapsed": false
   },
   "outputs": [
    {
     "name": "stdout",
     "output_type": "stream",
     "text": [
      "Key: crydtoglaph\n"
     ]
    },
    {
     "data": {
      "image/png": "[encoded data removed]",
      "text/plain": [
       "<matplotlib.figure.Figure at 0x8899750>"
      ]
     },
     "metadata": {},
     "output_type": "display_data"
    },
    {
     "data": {
      "image/png": "[encoded data removed]",
      "text/plain": [
       "<matplotlib.figure.Figure at 0x8adcdf0>"
      ]
     },
     "metadata": {},
     "output_type": "display_data"
    },
    {
     "name": "stdout",
     "output_type": "stream",
     "text": [
      "l\n",
      "22.7057319881\n",
      "24.6110831586\n"
     ]
    }
   ],
   "source": [
    "ptex = decipherTextVigenere(s)\n",
    "plotFreq(ptex)\n",
    "plotFreq(polyDecrypt(s,'cryptograph'))\n",
    "\n",
    "# print \"With deciphered key: \"+str(getDeviation(getFreq(ptex)))\n",
    "# print getDeviation(getFreq(polyDecrypt(s,'cryptograph')))\n",
    "# print ptex\n",
    "\n",
    "s1 = splitForKeyLength(s,11)[-4]\n",
    "k = crackCaesarCipher(s1)\n",
    "print k\n",
    "print getDeviation(getFreq(decrypt(s1,'l')))\n",
    "print getDeviation(getFreq(decrypt(s1,'r')))\n",
    "\n"
   ]
  },
  {
   "cell_type": "code",
   "execution_count": 28,
   "metadata": {
    "collapsed": false
   },
   "outputs": [
    {
     "name": "stdout",
     "output_type": "stream",
     "text": [
      "Key: crydtoglaph\n"
     ]
    },
    {
     "data": {
      "text/plain": [
       "'theoodeeouhavenrokknisanejampreofthehigeterecipterwnichwasbutititsfinmlfoxmbytherrenihdiployatbraisedehigetereitieanedampleoraporyalphanetiicipherunotnerwordetheiipherieconytantlyohanmingthenrilriantcopewayeventumllyhrokenbkthelamousezginkercharxesbgbbage'"
      ]
     },
     "execution_count": 28,
     "metadata": {},
     "output_type": "execute_result"
    }
   ],
   "source": [
    "ctext = open(\"ciphertext.txt\")\n",
    "s = ctext.read()\n",
    "ctext.close()\n",
    "\n",
    "decipherTextVigenere(s)"
   ]
  },
  {
   "cell_type": "code",
   "execution_count": 36,
   "metadata": {
    "collapsed": false
   },
   "outputs": [
    {
     "name": "stdout",
     "output_type": "stream",
     "text": [
      "Punctuationiseverywhere\n"
     ]
    }
   ],
   "source": [
    "def purgePunc(s):\n",
    "    \"\"\"Returns the string s, with all non-alphabetic characters removed\"\"\"\n",
    "    result = ''\n",
    "    for i in s:\n",
    "        if i in string.ascii_letters:\n",
    "            result+=i\n",
    "    \n",
    "    return result\n",
    "\n",
    "print purgePunc(\"Punc,tuati\\'on, is:,every;whe(r10e)\")"
   ]
  },
  {
   "cell_type": "code",
   "execution_count": 40,
   "metadata": {
    "collapsed": false
   },
   "outputs": [
    {
     "name": "stdout",
     "output_type": "stream",
     "text": [
      "255\n"
     ]
    },
    {
     "data": {
      "text/plain": [
       "[33, 77, 187, 176, 44, 154, 66, 66, 66, 66, 66, 66, 66, 177, 110, 66, 22]"
      ]
     },
     "execution_count": 40,
     "metadata": {},
     "output_type": "execute_result"
    }
   ],
   "source": [
    "def getRepeatDistances(s):\n",
    "    \"\"\"Returns the distances between repeating sequences of 3 characters in s\n",
    "    Example: 'ABCGHJABCGIIHJA' returns [6,6,8]\n",
    "    The repeating sequences are ABC, BCG and HJA\"\"\"\n",
    "    s = purgePunc(s)\n",
    "    l = len(s)\n",
    "    result = []\n",
    "    words = [s[i:i+3] for i in range(l)]\n",
    "    for i in range(l):\n",
    "        for j in range(i+1,l,1):\n",
    "            if words[i]==words[j]:\n",
    "                result.append(j-i)\n",
    "            \n",
    "    return result\n",
    "\n",
    "\n",
    "# getRepeatDistances('RIKVBIYBITHUSEVAZMMLTKASRNHPNPZICSWDSVMBIYFQEZUBZPBRGYNTBURMBECZQKBMBPAWIXSOFNUZECNRAZFPHIYBQEOCTTIOXKUNOHMRGCNDDXZWIRDVDRZYAYYICPUYDHCKXQIECIEWUICJNNACSAZZZGACZHMRGXFTILFNNTSDAFGYWLNICFISEAMRMORPGMJLUSTAAKBFLTIBYXGAVDVXPCTSVVRLJENOWWFINZOWEHOSRMQDGYSDOPVXXGPJNRVILZNAREDUYBTVLIDLMSXKYEYVAKAYBPVTDHMTMGITDZRTIOVWQIECEYBNEDPZWKUNDOZRBAHEGQBXURFGMUECNPAIIYURLRIPTFOYBISEOEDZINAISPBTZMNECRIJUFUCMMUUSANMMVICNRHQJMNHPNCEPUSQDMIVYTSZTRGXSPZUVWNORGQJMYNLILUKCPHDBYLNELPHVKYAYYBYXLERMMPBMHHCQKBMHDKMTDMSSJEVWOPNGCJMYRPYQELCDPOPVPBIEZALKZWTOPRYFARATPBHGLWWMXNHPHXVKBAANAVMNLPHMEMMSZHMTXHTFMQVLILOVVULNIWGVFUCGRZZKAUNADVYXUDDJVKAYUYOWLVBEOZFGTHHSPJNKAYICWITDARZPVU')\n",
    "print len(s)\n",
    "getRepeatDistances(s)"
   ]
  },
  {
   "cell_type": "code",
   "execution_count": 31,
   "metadata": {
    "collapsed": false
   },
   "outputs": [],
   "source": [
    "def getFirstFactors(n):\n",
    "    \"\"\"Returns a list of factors of n, under 20.\n",
    "    n: int\"\"\"\n",
    "    return [x for x in range(2,21,1) if n%x==0]\n",
    "        "
   ]
  },
  {
   "cell_type": "code",
   "execution_count": 32,
   "metadata": {
    "collapsed": false
   },
   "outputs": [
    {
     "data": {
      "text/plain": [
       "[2, 4, 5, 8, 10, 20]"
      ]
     },
     "execution_count": 32,
     "metadata": {},
     "output_type": "execute_result"
    }
   ],
   "source": [
    "getFirstFactors(200)"
   ]
  },
  {
   "cell_type": "code",
   "execution_count": 44,
   "metadata": {
    "collapsed": false
   },
   "outputs": [],
   "source": [
    "def getProbableKeyLength(ciphertext):\n",
    "    \"\"\"Returns the probable length of the vigenere cipher key used to create the given cipher text.\n",
    "    The most probable key length is the number which is the most common factor of the repeat distances\n",
    "    in the ciphertext. Assumes the key length is less than or equal to 20\"\"\"\n",
    "    dists = getRepeatDistances(ciphertext)\n",
    "    dic = {2:0}\n",
    "    for i in dists:\n",
    "        facts = getFirstFactors(i)\n",
    "        for j in facts:\n",
    "            dic[j]=dic.get(j,0)+1\n",
    "    \n",
    "    maxKey = 2\n",
    "    maxVal = dic[2]\n",
    "    for i in dic.keys():\n",
    "        if dic[i]>maxVal:\n",
    "            maxVal = dic[i]\n",
    "            maxKey = i\n",
    "    \n",
    "    return maxKey\n",
    "        "
   ]
  },
  {
   "cell_type": "code",
   "execution_count": 45,
   "metadata": {
    "collapsed": false
   },
   "outputs": [
    {
     "data": {
      "text/plain": [
       "11"
      ]
     },
     "execution_count": 45,
     "metadata": {},
     "output_type": "execute_result"
    }
   ],
   "source": [
    "getProbableKeyLength(s)"
   ]
  },
  {
   "cell_type": "code",
   "execution_count": 46,
   "metadata": {
    "collapsed": false,
    "scrolled": false
   },
   "outputs": [
    {
     "data": {
      "text/plain": [
       "{'a': 28.162210103533514,\n",
       " 'b': 31.305353916242545,\n",
       " 'c': 24.758531173767629,\n",
       " 'd': 16.087293715573647,\n",
       " 'e': 26.887628163734185,\n",
       " 'f': 32.783614785807757,\n",
       " 'g': 29.620738531627165,\n",
       " 'h': 27.801340538316126,\n",
       " 'i': 26.478263615239197,\n",
       " 'j': 20.698330504871308,\n",
       " 'k': 29.919735187145555,\n",
       " 'l': 30.528096391158929,\n",
       " 'm': 21.60167498647666,\n",
       " 'n': 23.660537862730841,\n",
       " 'o': 24.888965956376328,\n",
       " 'p': 27.587628163734188,\n",
       " 'q': 21.462878999854585,\n",
       " 'r': 33.652176658717458,\n",
       " 's': 33.877929167078669,\n",
       " 't': 25.458196725607095,\n",
       " 'u': 27.575588029954925,\n",
       " 'v': 39.189300404536851,\n",
       " 'w': 22.544484351025154,\n",
       " 'x': 23.688297060055255,\n",
       " 'y': 24.664216792496727,\n",
       " 'z': 23.712377327613787}"
      ]
     },
     "execution_count": 46,
     "metadata": {},
     "output_type": "execute_result"
    }
   ],
   "source": [
    "s1=splitForKeyLength(s,11)[3]\n",
    "getAllDeviations(getFreq(s1))\n",
    "# decrypt(s1,'p')\n",
    "# polyDecrypt(s,'cryptograph')"
   ]
  },
  {
   "cell_type": "code",
   "execution_count": null,
   "metadata": {
    "collapsed": true
   },
   "outputs": [],
   "source": []
  },
  {
   "cell_type": "code",
   "execution_count": null,
   "metadata": {
    "collapsed": true
   },
   "outputs": [],
   "source": []
  }
 ],
 "metadata": {
  "kernelspec": {
   "display_name": "Python 2",
   "language": "python",
   "name": "python2"
  },
  "language_info": {
   "codemirror_mode": {
    "name": "ipython",
    "version": 2
   },
   "file_extension": ".py",
   "mimetype": "text/x-python",
   "name": "python",
   "nbconvert_exporter": "python",
   "pygments_lexer": "ipython2",
   "version": "2.7.9"
  }
 },
 "nbformat": 4,
 "nbformat_minor": 0
}
