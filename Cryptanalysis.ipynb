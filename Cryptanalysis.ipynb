{
 "cells": [
  {
   "cell_type": "code",
   "execution_count": 1,
   "metadata": {
    "collapsed": false,
    "scrolled": true
   },
   "outputs": [
    {
     "name": "stdout",
     "output_type": "stream",
     "text": [
      "Populating the interactive namespace from numpy and matplotlib\n"
     ]
    }
   ],
   "source": [
    "%pylab inline"
   ]
  },
  {
   "cell_type": "code",
   "execution_count": 2,
   "metadata": {
    "collapsed": false
   },
   "outputs": [],
   "source": [
    "rcParams['figure.figsize'] = 12, 9\n",
    "import string"
   ]
  },
  {
   "cell_type": "code",
   "execution_count": 3,
   "metadata": {
    "collapsed": false
   },
   "outputs": [],
   "source": [
    "lowerletters=\"abcdefghijklmnopqrstuvwxyz\"\n",
    "upperletters = lowerletters.upper()\n",
    "englishfreq=[8.167,1.492, 2.782,4.253,12.702,2.228,2.015,6.094,6.966,0.153,0.772,4.025,2.406,6.749,7.507,1.929,0.095,5.987,6.327,9.056 \n",
    "   ,2.758 ,0.978 ,2.361 ,0.150 ,1.974,0.074]"
   ]
  },
  {
   "cell_type": "code",
   "execution_count": 4,
   "metadata": {
    "collapsed": false
   },
   "outputs": [
    {
     "data": {
      "text/plain": [
       "{'a': 'c',\n",
       " 'b': 'd',\n",
       " 'c': 'e',\n",
       " 'd': 'f',\n",
       " 'e': 'g',\n",
       " 'f': 'h',\n",
       " 'g': 'i',\n",
       " 'h': 'j',\n",
       " 'i': 'k',\n",
       " 'j': 'l',\n",
       " 'k': 'm',\n",
       " 'l': 'n',\n",
       " 'm': 'o',\n",
       " 'n': 'p',\n",
       " 'o': 'q',\n",
       " 'p': 'r',\n",
       " 'q': 's',\n",
       " 'r': 't',\n",
       " 's': 'u',\n",
       " 't': 'v',\n",
       " 'u': 'w',\n",
       " 'v': 'x',\n",
       " 'w': 'y',\n",
       " 'x': 'z',\n",
       " 'y': 'a',\n",
       " 'z': 'b'}"
      ]
     },
     "execution_count": 4,
     "metadata": {},
     "output_type": "execute_result"
    }
   ],
   "source": [
    "def getEncoder(key):\n",
    "    \"\"\"Returns a dictionary which maps each lowercase alphabet to the alphabet got by shifting it using the key.\n",
    "    key : A singleton string describing the shift amount\"\"\"\n",
    "    res = {}\n",
    "    k = ord(key)-ord('a')\n",
    "    for i in lowerletters:\n",
    "        res[i] = chr((ord(i)-ord('a')+k)%26 + ord('a'))\n",
    "    \n",
    "    return res\n",
    "    \n",
    "getEncoder('c')"
   ]
  },
  {
   "cell_type": "code",
   "execution_count": 5,
   "metadata": {
    "collapsed": true
   },
   "outputs": [],
   "source": [
    "def encrypt(ptext, key):\n",
    "    \"\"\" Encrypts the plaintext using a caesar cipher with key\n",
    "    ptext: Assumed to be a string\n",
    "    key: Assumed to be a singleton string, i.e., one character string\"\"\"\n",
    "    encode = getEncoder(key)\n",
    "    ctext = ''\n",
    "#     ptext = ptext.lower()\n",
    "    for i in ptext:\n",
    "        if i in lowerletters:\n",
    "            ctext += encode[i]\n",
    "        elif i in upperletters:\n",
    "            ctext += encode[i.lower()].upper()\n",
    "        else:\n",
    "            ctext += i\n",
    "    \n",
    "    return ctext"
   ]
  },
  {
   "cell_type": "code",
   "execution_count": 6,
   "metadata": {
    "collapsed": true
   },
   "outputs": [],
   "source": [
    "def decrypt(ctext, key):\n",
    "    \"\"\" Decrypts the ciphertext using a caesar cipher with key\n",
    "    ctext: Assumed to be a string\n",
    "    key: Assumed to be a singleton string, i.e., one character string\"\"\"\n",
    "    return encrypt(ctext, chr(25-(ord(key)-ord('a'))+ord('a')+1))"
   ]
  },
  {
   "cell_type": "code",
   "execution_count": 7,
   "metadata": {
    "collapsed": true
   },
   "outputs": [],
   "source": [
    "def normalizeToPercent(l):\n",
    "    \"\"\"Normalizes the list of floats l to a percentage\n",
    "    l: Assumed to be a list of floats\"\"\"\n",
    "    total = sum(l)\n",
    "    if total == 0:\n",
    "        return\n",
    "    for i in range(len(l)):\n",
    "        l[i] = l[i]*100.0/total"
   ]
  },
  {
   "cell_type": "code",
   "execution_count": 8,
   "metadata": {
    "collapsed": true
   },
   "outputs": [],
   "source": [
    "def getFreq(text):\n",
    "    \"\"\"Returns a dictionary which represents the frequency of English characters in the string text.\n",
    "    The keys are lowercase letters, but the case is ignored when frequency is measured.\"\"\"\n",
    "    freq={}\n",
    "    text = text.lower()\n",
    "    for i in lowerletters:\n",
    "        freq[i] = 0\n",
    "    for i in text:\n",
    "        if i in lowerletters:\n",
    "            freq[i] +=1\n",
    "    \n",
    "    return freq"
   ]
  },
  {
   "cell_type": "code",
   "execution_count": 9,
   "metadata": {
    "collapsed": true
   },
   "outputs": [],
   "source": [
    "def plotFreq(text):\n",
    "    \"\"\"Plots the frequency distribution of the string 'text' along with the standard English frequency distribution\"\"\"\n",
    "    \n",
    "    aDict = getFreq(text)\n",
    "    l=[]\n",
    "    for i in lowerletters:\n",
    "        l.append(aDict[i])\n",
    "    \n",
    "    normalizeToPercent(l)\n",
    "    \n",
    "    wid = 1\n",
    "    \n",
    "    fig,ax = plt.subplots()\n",
    "    rect1 = ax.bar(range(0,26*wid*3,wid*3), englishfreq, wid, color='purple')\n",
    "    rect2 = ax.bar(range(wid,26*wid*3 + wid,wid*3), l,wid, color='g')\n",
    "    \n",
    "    ax.set_ylabel('Frequency Percent')\n",
    "    ax.set_xlabel('Letter')\n",
    "    ax.set_title('Frequency distribution of input string')\n",
    "    ax.set_xticks(range(wid,26*wid*3 + wid,wid*3))\n",
    "    ax.set_xticklabels(list(lowerletters))\n",
    "    \n",
    "    ax.legend( (rect1[0], rect2[0]), ('Standard English Frequency', 'Input Text Frequency') )\n",
    "    \n",
    "    plt.show() "
   ]
  },
  {
   "cell_type": "code",
   "execution_count": 10,
   "metadata": {
    "collapsed": false
   },
   "outputs": [
    {
     "name": "stdout",
     "output_type": "stream",
     "text": [
      "kdssb\n",
      "{'a': 0, 'c': 0, 'b': 0, 'e': 1, 'd': 0, 'g': 1, 'f': 0, 'i': 1, 'h': 0, 'k': 0, 'j': 0, 'm': 0, 'l': 0, 'o': 0, 'n': 1, 'q': 0, 'p': 0, 's': 2, 'r': 1, 'u': 0, 't': 3, 'w': 0, 'v': 0, 'y': 0, 'x': 0, 'z': 0}\n",
      "\n",
      "Random string plot:\n"
     ]
    },
    {
     "data": {
      "image/png": "[encoded data removed]",
      "text/plain": [
       "<matplotlib.figure.Figure at 0x622b450>"
      ]
     },
     "metadata": {},
     "output_type": "display_data"
    },
    {
     "name": "stdout",
     "output_type": "stream",
     "text": [
      "\n",
      "English string plot:\n"
     ]
    },
    {
     "data": {
      "image/png": "[encoded data removed]",
      "text/plain": [
       "<matplotlib.figure.Figure at 0x622b470>"
      ]
     },
     "metadata": {},
     "output_type": "display_data"
    }
   ],
   "source": [
    "print encrypt(\"happy\",\"d\")\n",
    "print getFreq(\"test string\")\n",
    "#plot([sin(x) for x in linspace(0,5)])\n",
    "print '\\nRandom string plot:'\n",
    "plotFreq(\"ajabsdakjsdasvbdkfjvaeiwqeubfalsjhnfajsdfvwaljekfbsaldj,fbawljerhvlqhjfdamds\")\n",
    "print '\\nEnglish string plot:'\n",
    "plotFreq(\"This is a sentence written in the English language. It has a particular frequency distribution of letters which can be used to crack Caeser ciphers.\")\n",
    "#bar(range(26),dic.values())"
   ]
  },
  {
   "cell_type": "code",
   "execution_count": 11,
   "metadata": {
    "collapsed": false
   },
   "outputs": [
    {
     "name": "stdout",
     "output_type": "stream",
     "text": [
      "Sample text frequency distribution:\n"
     ]
    },
    {
     "data": {
      "image/png": "[encoded data removed]",
      "text/plain": [
       "<matplotlib.figure.Figure at 0x6738ad0>"
      ]
     },
     "metadata": {},
     "output_type": "display_data"
    },
    {
     "name": "stdout",
     "output_type": "stream",
     "text": [
      "Decrypted text with previously known key:\n",
      "The earliest forms of secret writing required little more than writing implements since most \n",
      "people could not read. More literacy, or literate opponents, required actual cryptography.\n",
      "\n",
      "Decrypted text frequency distribution:\n"
     ]
    },
    {
     "data": {
      "image/png": "[encoded data removed]",
      "text/plain": [
       "<matplotlib.figure.Figure at 0x8af4e90>"
      ]
     },
     "metadata": {},
     "output_type": "display_data"
    }
   ],
   "source": [
    "sampletext = \"\"\"Ymj jfwqnjxy ktwrx tk xjhwjy bwnynsl wjvznwji qnyyqj rtwj ymfs bwnynsl nruqjrjsyx xnshj rtxy \n",
    "ujtuqj htzqi sty wjfi. Rtwj qnyjwfhd, tw qnyjwfyj tuutsjsyx, wjvznwji fhyzfq hwduytlwfumd.\"\"\"\n",
    "s1 = decrypt(sampletext,'f')\n",
    "print 'Sample text frequency distribution:'\n",
    "plotFreq(sampletext)\n",
    "print 'Decrypted text with previously known key:'\n",
    "print s1\n",
    "print '\\nDecrypted text frequency distribution:'\n",
    "plotFreq(s1)"
   ]
  },
  {
   "cell_type": "code",
   "execution_count": 12,
   "metadata": {
    "collapsed": false
   },
   "outputs": [
    {
     "data": {
      "text/plain": [
       "{'a': 0,\n",
       " 'b': 2,\n",
       " 'c': 0,\n",
       " 'd': 3,\n",
       " 'e': 0,\n",
       " 'f': 8,\n",
       " 'g': 0,\n",
       " 'h': 6,\n",
       " 'i': 4,\n",
       " 'j': 22,\n",
       " 'k': 2,\n",
       " 'l': 3,\n",
       " 'm': 3,\n",
       " 'n': 12,\n",
       " 'o': 0,\n",
       " 'p': 0,\n",
       " 'q': 9,\n",
       " 'r': 6,\n",
       " 's': 8,\n",
       " 't': 12,\n",
       " 'u': 7,\n",
       " 'v': 2,\n",
       " 'w': 17,\n",
       " 'x': 7,\n",
       " 'y': 17,\n",
       " 'z': 4}"
      ]
     },
     "execution_count": 12,
     "metadata": {},
     "output_type": "execute_result"
    }
   ],
   "source": [
    "def decryptFreq(aDict, key):\n",
    "    \"\"\"Returns the frequency distribution obtained by decrypting the frequency distribution aDict using key.\n",
    "    aDict : A dictionary whose keys are lowercase alphabet and values are ints\n",
    "    key: A singleton string\"\"\"\n",
    "    result = {}\n",
    "    encode = getEncoder(key)\n",
    "    for i in lowerletters:\n",
    "        result[i] = aDict[encode[i]]\n",
    "    \n",
    "    return result\n",
    "    \n",
    "decryptFreq(getFreq(sampletext), 'a')"
   ]
  },
  {
   "cell_type": "code",
   "execution_count": 13,
   "metadata": {
    "collapsed": false
   },
   "outputs": [
    {
     "data": {
      "text/plain": [
       "3.3845557310481733"
      ]
     },
     "execution_count": 13,
     "metadata": {},
     "output_type": "execute_result"
    }
   ],
   "source": [
    "def getDeviation(aDict):\n",
    "    \"\"\"Get the mean square deviation of the input frequency distribution from the standard English frequency distribution.\n",
    "    aDict : A dictionary whose keys are lowercase alphabet and values are ints\"\"\"\n",
    "    freqlist = []\n",
    "    for i in lowerletters:\n",
    "        freqlist.append(aDict[i])\n",
    "    \n",
    "    normalizeToPercent(freqlist)\n",
    "    return sum([(freqlist[x]-englishfreq[x])**2 for x in range(26)])/26.0\n",
    "\n",
    "getDeviation(getFreq(decrypt(sampletext,'f')))"
   ]
  },
  {
   "cell_type": "code",
   "execution_count": 14,
   "metadata": {
    "collapsed": false
   },
   "outputs": [
    {
     "name": "stdout",
     "output_type": "stream",
     "text": [
      "Notice that the minimum deviation is for the key 'f'\n"
     ]
    },
    {
     "data": {
      "text/plain": [
       "{'a': 29.62986042635287,\n",
       " 'b': 23.721418867911307,\n",
       " 'c': 26.02306721955966,\n",
       " 'd': 24.452038248530695,\n",
       " 'e': 26.281608678101119,\n",
       " 'f': 3.3845557310481733,\n",
       " 'g': 24.26527501176745,\n",
       " 'h': 28.812178108670555,\n",
       " 'i': 30.084106180598617,\n",
       " 'j': 16.984455830948271,\n",
       " 'k': 30.068172114664552,\n",
       " 'l': 26.457382903875342,\n",
       " 'm': 27.676863423355865,\n",
       " 'n': 27.31477551126795,\n",
       " 'o': 28.410529757022196,\n",
       " 'p': 24.893546740039184,\n",
       " 'q': 16.091698588191033,\n",
       " 'r': 23.224565721058163,\n",
       " 's': 19.944046240538682,\n",
       " 't': 28.583007279499725,\n",
       " 'u': 19.19279748928993,\n",
       " 'v': 25.99254773904018,\n",
       " 'w': 25.507832454324898,\n",
       " 'x': 32.509081205573651,\n",
       " 'y': 26.010429856922297,\n",
       " 'z': 29.206383902876347}"
      ]
     },
     "execution_count": 14,
     "metadata": {},
     "output_type": "execute_result"
    }
   ],
   "source": [
    "def getAllDeviations(aDict):\n",
    "    \"\"\"Returns a dictionary whose keys are keys used to decrypt the frequency distribution defined by aDict, and values are the mean\n",
    "    deviations of the resultant frequency distribution from the standard English frequency distribution.\n",
    "    aDict : A dictionary whose keys are lowercase alphabet and values are ints\"\"\"\n",
    "    result = {}\n",
    "    for i in lowerletters:\n",
    "        temp = decryptFreq(aDict,i)\n",
    "        result[i] = getDeviation(temp)\n",
    "    \n",
    "    return result\n",
    "\n",
    "print \"Notice that the minimum deviation is for the key 'f'\"\n",
    "getAllDeviations(getFreq(sampletext))"
   ]
  },
  {
   "cell_type": "code",
   "execution_count": 15,
   "metadata": {
    "collapsed": true
   },
   "outputs": [],
   "source": [
    "def crackCaesarCipher(ciphertext):\n",
    "    \"\"\"Cracks the Caeser cipher used to encrypt the ciphertext and returns the key.\n",
    "    Returns: A singleton string with the key.\"\"\"\n",
    "    freq = getFreq(ciphertext)\n",
    "    devs = getAllDeviations(freq)\n",
    "    key='a'\n",
    "    mindev = devs['a']\n",
    "    for i in lowerletters:\n",
    "        if devs[i]<mindev:\n",
    "            mindev = devs[i]\n",
    "            key = i\n",
    "            \n",
    "    return key"
   ]
  },
  {
   "cell_type": "code",
   "execution_count": 16,
   "metadata": {
    "collapsed": false,
    "scrolled": false
   },
   "outputs": [
    {
     "name": "stdout",
     "output_type": "stream",
     "text": [
      "Results of encrypting text using a key and attempting to crack the cipher and get back the key:\n",
      "\n",
      "Text used:\n",
      "Cryptanalysis is the term used for the study of methods for obtaining the meaning of encrypted information \n",
      "without access to the key normally required to do so; i.e., it is the study of how to crack encryption algorithms or their implementations.\n",
      "\n",
      "\n",
      "Frequency distribution of text used:\n"
     ]
    },
    {
     "data": {
      "image/png": "[encoded data removed]",
      "text/plain": [
       "<matplotlib.figure.Figure at 0x8da6b70>"
      ]
     },
     "metadata": {},
     "output_type": "display_data"
    },
    {
     "name": "stdout",
     "output_type": "stream",
     "text": [
      "Key used: a\tKey deciphered: a\n",
      "Key used: b\tKey deciphered: b\n",
      "Key used: c\tKey deciphered: c\n",
      "Key used: d\tKey deciphered: d\n",
      "Key used: e\tKey deciphered: e\n",
      "Key used: f\tKey deciphered: f\n",
      "Key used: g\tKey deciphered: g\n",
      "Key used: h\tKey deciphered: h\n",
      "Key used: i\tKey deciphered: i\n",
      "Key used: j\tKey deciphered: j\n",
      "Key used: k\tKey deciphered: k\n",
      "Key used: l\tKey deciphered: l\n",
      "Key used: m\tKey deciphered: m\n",
      "Key used: n\tKey deciphered: n\n",
      "Key used: o\tKey deciphered: o\n",
      "Key used: p\tKey deciphered: p\n",
      "Key used: q\tKey deciphered: q\n",
      "Key used: r\tKey deciphered: r\n",
      "Key used: s\tKey deciphered: s\n",
      "Key used: t\tKey deciphered: t\n",
      "Key used: u\tKey deciphered: u\n",
      "Key used: v\tKey deciphered: v\n",
      "Key used: w\tKey deciphered: w\n",
      "Key used: x\tKey deciphered: x\n",
      "Key used: y\tKey deciphered: y\n",
      "Key used: z\tKey deciphered: z\n"
     ]
    },
    {
     "data": {
      "text/plain": [
       "{'a': 2.0849275418887205,\n",
       " 'b': 19.143748820112982,\n",
       " 'c': 26.869849088004294,\n",
       " 'd': 27.504024365463149,\n",
       " 'e': 18.133607220419147,\n",
       " 'f': 23.330239443917037,\n",
       " 'g': 21.479340094510221,\n",
       " 'h': 24.276201939133269,\n",
       " 'i': 26.474671131632306,\n",
       " 'j': 26.918452226159676,\n",
       " 'k': 19.382363439324614,\n",
       " 'l': 17.23414300304448,\n",
       " 'm': 21.295030871395035,\n",
       " 'n': 21.106588468027251,\n",
       " 'o': 21.033836841544289,\n",
       " 'p': 16.638926776484968,\n",
       " 'q': 22.300694859148567,\n",
       " 'r': 25.226144533851979,\n",
       " 's': 29.574518050882212,\n",
       " 't': 23.485042352451295,\n",
       " 'u': 22.70658846802726,\n",
       " 'v': 23.759324786435222,\n",
       " 'w': 21.82430756485083,\n",
       " 'x': 25.935788621108006,\n",
       " 'y': 25.999699834272956,\n",
       " 'z': 21.857296466496447}"
      ]
     },
     "execution_count": 16,
     "metadata": {},
     "output_type": "execute_result"
    }
   ],
   "source": [
    "sampletext2 = \"\"\"Cryptanalysis is the term used for the study of methods for obtaining the meaning of encrypted information \n",
    "without access to the key normally required to do so; i.e., it is the study of how to crack encryption algorithms or their implementations.\"\"\"\n",
    "\n",
    "print \"Results of encrypting text using a key and attempting to crack the cipher and get back the key:\\n\"\n",
    "print \"Text used:\\n\" +sampletext2+\"\\n\"\n",
    "print \"\\nFrequency distribution of text used:\"\n",
    "plotFreq(sampletext2)\n",
    "for i in lowerletters:\n",
    "    t = encrypt(sampletext2,i)\n",
    "    print('Key used: '+i+'\\tKey deciphered: '+crackCaesarCipher(t))\n",
    "\n",
    "# t = encrypt(s,'j')\n",
    "# print decrypt(t,'j')\n",
    "getAllDeviations(getFreq(sampletext2))"
   ]
  },
  {
   "cell_type": "code",
   "execution_count": 17,
   "metadata": {
    "collapsed": true
   },
   "outputs": [],
   "source": [
    "def decipherText(ciphertext):\n",
    "    \"\"\"Deciphers the ciphertext assuming it has been encrypted using a Caeser cipher.\n",
    "    Deciphering is done using frequency analysis.\n",
    "    ciphertext : The ciphertext\"\"\"\n",
    "    key = crackCaesarCipher(ciphertext)\n",
    "    return decrypt(ciphertext,key)\n",
    "    "
   ]
  },
  {
   "cell_type": "code",
   "execution_count": 18,
   "metadata": {
    "collapsed": false
   },
   "outputs": [
    {
     "name": "stdout",
     "output_type": "stream",
     "text": [
      "Cipher text:\n",
      "Tipgkfxirgyp gizfi kf kyv dfuvie rxv nrj vwwvtkzmvcp jpefepdflj nzky vetipgkzfe, kyv tfemvijzfe fw zewfidrkzfe wifd r ivrurscv jkrkv kf rggrivek efejvejv. Kyv fizxzerkfi fw re vetipgkvu dvjjrxv jyrivu kyv uvtfuzex kvtyezhlv evvuvu kf ivtfmvi kyv fizxzerc zewfidrkzfe fecp nzky zekveuvu ivtzgzvekj, kyvivsp givtcluzex lenrekvu gvijfej wifd ufzex kyv jrdv. Jzetv Nficu Nri Z reu kyv rumvek fw kyv tfdglkvi, kyv dvkyfuj ljvu kf triip flk tipgkfcfxp yrmv svtfdv zetivrjzexcp tfdgcvo reu zkj rggcztrkzfe dfiv nzuvjgivru.\n",
      "\n",
      "Frequency distribution of cipher text:\n"
     ]
    },
    {
     "data": {
      "image/png": "[encoded data removed]",
      "text/plain": [
       "<matplotlib.figure.Figure at 0x8c01ef0>"
      ]
     },
     "metadata": {},
     "output_type": "display_data"
    },
    {
     "name": "stdout",
     "output_type": "stream",
     "text": [
      "\n",
      "Deciphered text:\n",
      "Cryptography prior to the modern age was effectively synonymous with encryption, the conversion of information from a readable state to apparent nonsense. The originator of an encrypted message shared the decoding technique needed to recover the original information only with intended recipients, thereby precluding unwanted persons from doing the same. Since World War I and the advent of the computer, the methods used to carry out cryptology have become increasingly complex and its application more widespread.\n",
      "\n",
      "Key used: r\n",
      "\n",
      "Frequency distribution of deciphered text:\n"
     ]
    },
    {
     "data": {
      "image/png": "[encoded data removed]",
      "text/plain": [
       "<matplotlib.figure.Figure at 0x6781650>"
      ]
     },
     "metadata": {},
     "output_type": "display_data"
    }
   ],
   "source": [
    "filecreatorIfNeeded = open(\"caeserCiphertext.txt\", 'a+')\n",
    "filecreatorIfNeeded.close()\n",
    "ctextreader = open(\"caeserCiphertext.txt\")\n",
    "s = ctextreader.read()\n",
    "ctextreader.close()\n",
    "\n",
    "print \"Cipher text:\\n\"+s\n",
    "print \"\\nFrequency distribution of cipher text:\"\n",
    "plotFreq(s)\n",
    "pt = decipherText(s)\n",
    "print \"\\nDeciphered text:\\n\"+pt\n",
    "print \"\\nKey used: \"+crackCaesarCipher(s)\n",
    "print \"\\nFrequency distribution of deciphered text:\"\n",
    "plotFreq(pt)"
   ]
  },
  {
   "cell_type": "code",
   "execution_count": 19,
   "metadata": {
    "collapsed": false
   },
   "outputs": [],
   "source": [
    "# %timeit crackCaesarCipher(s)"
   ]
  },
  {
   "cell_type": "code",
   "execution_count": 20,
   "metadata": {
    "collapsed": false
   },
   "outputs": [
    {
     "data": {
      "text/plain": [
       "'LXFOPV EFRNHR'"
      ]
     },
     "execution_count": 20,
     "metadata": {},
     "output_type": "execute_result"
    }
   ],
   "source": [
    "def polyEncrypt(ptext,key):\n",
    "    \"\"\"Encrypts the plaintext using a Vigenere cipher with the key.\n",
    "    ptext, key: Strings\"\"\"\n",
    "    l = len(key)\n",
    "    result = ''\n",
    "    c=0\n",
    "    for i in ptext:\n",
    "        if i in string.letters:\n",
    "            result+=encrypt(i,key[c%l])\n",
    "            c+=1\n",
    "        else:\n",
    "            result+=i\n",
    "    \n",
    "    return result\n",
    "\n",
    "polyEncrypt('ATTACK ATDAWN',\"lemon\")"
   ]
  },
  {
   "cell_type": "code",
   "execution_count": 21,
   "metadata": {
    "collapsed": false
   },
   "outputs": [
    {
     "data": {
      "text/plain": [
       "'ATTACK AT DAWN'"
      ]
     },
     "execution_count": 21,
     "metadata": {},
     "output_type": "execute_result"
    }
   ],
   "source": [
    "def polyDecrypt(ctext, key):\n",
    "    \"\"\"Decrypts the ciphertext using a Vigenere cipher with the key.\n",
    "    ptext, key: Strings\"\"\"\n",
    "    dkey = ''\n",
    "    for i in key:\n",
    "        dkey += chr(25-(ord(i)-ord('a'))+ord('a')+1)\n",
    "    \n",
    "    return polyEncrypt(ctext,dkey)\n",
    "\n",
    "polyDecrypt('LXFOPV EF RNHR', 'lemon')"
   ]
  },
  {
   "cell_type": "code",
   "execution_count": 22,
   "metadata": {
    "collapsed": false,
    "scrolled": false
   },
   "outputs": [
    {
     "data": {
      "text/plain": [
       "['AKW', 'TAN', 'TT', 'AD', 'CA']"
      ]
     },
     "execution_count": 22,
     "metadata": {},
     "output_type": "execute_result"
    }
   ],
   "source": [
    "def splitForKeyLength(intext, keylength):\n",
    "    \"\"\"Splits the input text into keylength number of strings. Each string contains the characters which would be\n",
    "    encrypted by each character of a key whose length is keylength\n",
    "    intext: String\n",
    "    keylength: int\"\"\"\n",
    "    strs = []\n",
    "    for i in range(keylength):\n",
    "        strs.append('')\n",
    "    \n",
    "    c=0\n",
    "    for i in intext:\n",
    "        if i in string.letters:\n",
    "            strs[c%keylength]+=i\n",
    "            c+=1\n",
    "    \n",
    "    return strs\n",
    "\n",
    "splitForKeyLength('ATTACKATDAWN',5)"
   ]
  },
  {
   "cell_type": "code",
   "execution_count": 23,
   "metadata": {
    "collapsed": false
   },
   "outputs": [],
   "source": [
    "def crackVigenereCipher(ciphertext, keylength):\n",
    "    \"\"\"Cracks the Vigenere cipher in the ciphertext, assuming the key has a length of keylength\n",
    "    Returns a tuple of the key decoded and the deviation obtained from decrypting the text with that key.\n",
    "    ciphertext: String\n",
    "    keylength: int\"\"\"\n",
    "    strs = splitForKeyLength(ciphertext, keylength)\n",
    "    key = ''\n",
    "    for i in strs:\n",
    "        key += crackCaesarCipher(i)\n",
    "    \n",
    "    \n",
    "    ptex = polyDecrypt(ciphertext, key)\n",
    "    return (key, getDeviation(getFreq(ptex)))\n"
   ]
  },
  {
   "cell_type": "code",
   "execution_count": 24,
   "metadata": {
    "collapsed": true
   },
   "outputs": [],
   "source": [
    "def decipherTextVigenere(ciphertext):\n",
    "    \"\"\"Cracks the Vigenere cipher in the ciphertext, and returns the decrypted text.\n",
    "    Assumes the key has length between 1 and 20.\n",
    "    ciphertext: String\"\"\"\n",
    "    results = []\n",
    "    for i in range(1,21,1):\n",
    "        results.append(crackVigenereCipher(ciphertext,i))\n",
    "    \n",
    "    mindev = results[0][1]\n",
    "    minkey = results[0][0]\n",
    "    for i in results:\n",
    "        if i[1]<mindev:\n",
    "            mindev = i[1]\n",
    "            minkey = i[0]\n",
    "    \n",
    "    print \"Key: \" + minkey\n",
    "    return polyDecrypt(ciphertext, minkey)"
   ]
  },
  {
   "cell_type": "code",
   "execution_count": 25,
   "metadata": {
    "collapsed": true
   },
   "outputs": [],
   "source": [
    "filecreatorIfNeeded2 = open(\"vigenereCiphertext.txt\", 'a+')\n",
    "filecreatorIfNeeded2.close()\n",
    "ctext = open(\"vigenereCiphertext.txt\")\n",
    "vs = ctext.read()\n",
    "ctext.close()"
   ]
  },
  {
   "cell_type": "code",
   "execution_count": 26,
   "metadata": {
    "collapsed": false
   },
   "outputs": [
    {
     "name": "stdout",
     "output_type": "stream",
     "text": [
      "Cipher text:\n",
      "Elq qboi kch sehs ocswsa tw mb rieydyp sr hup zuuryids ptttse hluqu hee dhe mz wgd jubnw jafz mc fvr qvqbps hudyzqmh Oweugr oi Hwtprqfr. Tx ug ny ijozapq cs l tazllpbvnmifwp nmbvrc, mz cgsid kbche hup gudupv ug pzrehnyxxm psezuvyk. Fvr mvuzytezh pzhq knd ihsaeymzyj fdcxpr nm gsi rozzye sarmzsrc, Gtoewie Pnmfmur.\n",
      "\n",
      "Frequency distribution of cipher text:\n"
     ]
    },
    {
     "data": {
      "image/png": "[encoded data removed]",
      "text/plain": [
       "<matplotlib.figure.Figure at 0x8c10470>"
      ]
     },
     "metadata": {},
     "output_type": "display_data"
    }
   ],
   "source": [
    "print \"Cipher text:\\n\"+vs\n",
    "print \"\\nFrequency distribution of cipher text:\"\n",
    "plotFreq(vs)"
   ]
  },
  {
   "cell_type": "markdown",
   "metadata": {},
   "source": [
    "### The above graph shows the effectiveness of the Vigenere Cipher.\n",
    "The frequency distribution of the cipher text is nearly uniform, and therefore a simple frequency analysis will not \n",
    "yield results.\n",
    "The method used to crack the Vigenere Cipher is to analyse the frequency distribution of every nth character, where n is the \n",
    "length of the key used. However, one cannot ascertain this keylength easily. A first approach is to attempt to break the code by using\n",
    "all the key lengths upto a certain limit, say 20, and comparing the deviations obtained from each length of the key."
   ]
  },
  {
   "cell_type": "code",
   "execution_count": 27,
   "metadata": {
    "collapsed": false,
    "scrolled": false
   },
   "outputs": [
    {
     "name": "stdout",
     "output_type": "stream",
     "text": [
      "Key: lemonleqonleqzg\n",
      "Deciphered text:\n",
      "The code uou hart iroken is wn exaiese of the vegenent jipher whech wao ebt in its fenal fkgt by the franch deesomat Blaese de Rxnenere. It es an etptple of a pklyallwhbetic cilher, ij daher wordo the ceeoer is conotanthn jhanging. Phe breasiant coda was ertutually bnoken xn ahe famouo engijtlr, Charleo Babbwvl.\n",
      "\n",
      "Frequency distribution of deciphered text:\n"
     ]
    },
    {
     "data": {
      "image/png": "[encoded data removed]",
      "text/plain": [
       "<matplotlib.figure.Figure at 0x63d2730>"
      ]
     },
     "metadata": {},
     "output_type": "display_data"
    }
   ],
   "source": [
    "ptex = decipherTextVigenere(vs)\n",
    "print \"Deciphered text:\\n\"+ptex\n",
    "print \"\\nFrequency distribution of deciphered text:\"\n",
    "plotFreq(ptex)"
   ]
  },
  {
   "cell_type": "markdown",
   "metadata": {},
   "source": [
    "#####This result shows that the previously mentioned method is also flawed\n",
    "The failure of the method to always yield the correct result is caused by two reasons:\n",
    "* The cipher text is too small for frequency analysis.\n",
    "* The individual cracking of Caeser ciphers may not yield the best result when the whole key is taken together. The variable key length can also cause repitition of the same keyword multiple times, but with slight differences due to the above reason.\n",
    "\n",
    "One way to improve the method is to find the most probable keylength through some other means and not brute force through each keylength."
   ]
  },
  {
   "cell_type": "code",
   "execution_count": 28,
   "metadata": {
    "collapsed": false
   },
   "outputs": [
    {
     "name": "stdout",
     "output_type": "stream",
     "text": [
      "Punctuationiseverywhere\n"
     ]
    }
   ],
   "source": [
    "def purgePunc(s):\n",
    "    \"\"\"Returns the string s, with all non-alphabetic characters removed\"\"\"\n",
    "    result = ''\n",
    "    for i in s:\n",
    "        if i in string.ascii_letters:\n",
    "            result+=i\n",
    "    \n",
    "    return result\n",
    "\n",
    "print purgePunc(\"Punc,tuati\\'on, is:,every;whe(r10e)\")"
   ]
  },
  {
   "cell_type": "code",
   "execution_count": 29,
   "metadata": {
    "collapsed": false,
    "scrolled": false
   },
   "outputs": [
    {
     "name": "stdout",
     "output_type": "stream",
     "text": [
      "[35, 84, 357, 385, 525, 385, 420, 420, 266, 322, 210, 224, 56, 56, 343, 343, 516, 175, 175, 413, 266, 410, 179, 259, 266, 379, 308, 329, 351, 277, 344, 208, 35, 140, 63, 137, 104, 7, 22]\n"
     ]
    }
   ],
   "source": [
    "def getRepeatDistances(s):\n",
    "    \"\"\"Returns the distances between repeating sequences of 3 characters in s\n",
    "    Example: 'ABCGHJABCGIIHJA' returns [6,6,8]\n",
    "    The repeating sequences are ABC, BCG and HJA\"\"\"\n",
    "    s = purgePunc(s)\n",
    "    l = len(s)\n",
    "    result = []\n",
    "    words = [s[i:i+3] for i in range(l)]\n",
    "    for i in range(l):\n",
    "        for j in range(i+1,l,1):\n",
    "            if words[i]==words[j]:\n",
    "                result.append(j-i)\n",
    "            \n",
    "    return result\n",
    "\n",
    "\n",
    "print getRepeatDistances('RIKVBIYBITHUSEVAZMMLTKASRNHPNPZICSWDSVMBIYFQEZUBZPBRGYNTBURMBECZQKBMBPAWIXSOFNUZECNRAZFPHIYBQEOCTTIOXKUNOHMRGCNDDXZWIRDVDRZYAYYICPUYDHCKXQIECIEWUICJNNACSAZZZGACZHMRGXFTILFNNTSDAFGYWLNICFISEAMRMORPGMJLUSTAAKBFLTIBYXGAVDVXPCTSVVRLJENOWWFINZOWEHOSRMQDGYSDOPVXXGPJNRVILZNAREDUYBTVLIDLMSXKYEYVAKAYBPVTDHMTMGITDZRTIOVWQIECEYBNEDPZWKUNDOZRBAHEGQBXURFGMUECNPAIIYURLRIPTFOYBISEOEDZINAISPBTZMNECRIJUFUCMMUUSANMMVICNRHQJMNHPNCEPUSQDMIVYTSZTRGXSPZUVWNORGQJMYNLILUKCPHDBYLNELPHVKYAYYBYXLERMMPBMHHCQKBMHDKMTDMSSJEVWOPNGCJMYRPYQELCDPOPVPBIEZALKZWTOPRYFARATPBHGLWWMXNHPHXVKBAANAVMNLPHMEMMSZHMTXHTFMQVLILOVVULNIWGVFUCGRZZKAUNADVYXUDDJVKAYUYOWLVBEOZFGTHHSPJNKAYICWITDARZPVU')\n"
   ]
  },
  {
   "cell_type": "code",
   "execution_count": 30,
   "metadata": {
    "collapsed": false
   },
   "outputs": [
    {
     "data": {
      "text/plain": [
       "[2, 4, 5, 8, 10, 20]"
      ]
     },
     "execution_count": 30,
     "metadata": {},
     "output_type": "execute_result"
    }
   ],
   "source": [
    "def getFirstFactors(n):\n",
    "    \"\"\"Returns a list of factors of n, under 20.\n",
    "    n: int\"\"\"\n",
    "    return [x for x in range(2,21,1) if n%x==0]\n",
    "        \n",
    "getFirstFactors(200)"
   ]
  },
  {
   "cell_type": "code",
   "execution_count": 31,
   "metadata": {
    "collapsed": false
   },
   "outputs": [],
   "source": [
    "def getProbableKeyLength(ciphertext):\n",
    "    \"\"\"Returns the probable length of the vigenere cipher key used to create the given cipher text.\n",
    "    The most probable key length is the number which is the most common factor of the repeat distances\n",
    "    in the ciphertext. Assumes the key length is less than or equal to 20\"\"\"\n",
    "    dists = getRepeatDistances(ciphertext)\n",
    "    dic = {2:0}\n",
    "    for i in dists:\n",
    "        facts = getFirstFactors(i)\n",
    "        for j in facts:\n",
    "            dic[j]=dic.get(j,0)+1\n",
    "    \n",
    "    maxKey = 2\n",
    "    maxVal = dic[2]\n",
    "    for i in dic.keys():\n",
    "        if dic[i]>maxVal:\n",
    "            maxVal = dic[i]\n",
    "            maxKey = i\n",
    "    \n",
    "    return maxKey\n",
    "        "
   ]
  },
  {
   "cell_type": "code",
   "execution_count": 32,
   "metadata": {
    "collapsed": false
   },
   "outputs": [
    {
     "name": "stdout",
     "output_type": "stream",
     "text": [
      "Most probable key length: 5\n",
      "\n",
      "Cracked key of that length: lemon\n",
      "\n",
      "Cipher text:\n",
      "Elq qboi kch sehs ocswsa tw mb rieydyp sr hup zuuryids ptttse hluqu hee dhe mz wgd jubnw jafz mc fvr qvqbps hudyzqmh Oweugr oi Hwtprqfr. Tx ug ny ijozapq cs l tazllpbvnmifwp nmbvrc, mz cgsid kbche hup gudupv ug pzrehnyxxm psezuvyk. Fvr mvuzytezh pzhq knd ihsaeymzyj fdcxpr nm gsi rozzye sarmzsrc, Gtoewie Pnmfmur.\n",
      "\n",
      "Deciphered text:\n",
      "The code you have broken is an example of the vigenere cipher which was put in its final form by the french diplomat Blaise de Vigenere. It is an example of a polyalphabetic cipher, in other words the cipher is constantly changing. The brilliant code was eventually broken by the famous engineer, Charles Babbage.\n"
     ]
    }
   ],
   "source": [
    "keylen = getProbableKeyLength(vs)\n",
    "print \"Most probable key length: \"+str(keylen)\n",
    "key1 = crackVigenereCipher(vs,keylen)\n",
    "print \"\\nCracked key of that length: \"+key1[0]\n",
    "print \"\\nCipher text:\\n\"+vs\n",
    "print \"\\nDeciphered text:\\n\"+polyDecrypt(vs,key1[0])"
   ]
  },
  {
   "cell_type": "markdown",
   "metadata": {
    "collapsed": false,
    "scrolled": false
   },
   "source": [
    "#####Thus, using the analysis of repeat distances and their common factors is more effective.\n",
    "This method allows us to reliably obtain the correct keylength, and using this keylength the cipher can be cracked more effectively."
   ]
  },
  {
   "cell_type": "code",
   "execution_count": null,
   "metadata": {
    "collapsed": true
   },
   "outputs": [],
   "source": []
  },
  {
   "cell_type": "code",
   "execution_count": null,
   "metadata": {
    "collapsed": true
   },
   "outputs": [],
   "source": []
  }
 ],
 "metadata": {
  "kernelspec": {
   "display_name": "Python 2",
   "language": "python",
   "name": "python2"
  },
  "language_info": {
   "codemirror_mode": {
    "name": "ipython",
    "version": 2
   },
   "file_extension": ".py",
   "mimetype": "text/x-python",
   "name": "python",
   "nbconvert_exporter": "python",
   "pygments_lexer": "ipython2",
   "version": "2.7.9"
  }
 },
 "nbformat": 4,
 "nbformat_minor": 0
}
